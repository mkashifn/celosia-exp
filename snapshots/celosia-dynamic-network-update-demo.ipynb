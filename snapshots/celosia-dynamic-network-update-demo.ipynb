{
 "cells": [
  {
   "cell_type": "markdown",
   "metadata": {},
   "source": [
    "# Celosia - Dynamic network update demo"
   ]
  },
  {
   "cell_type": "code",
   "execution_count": 1,
   "metadata": {
    "_cell_guid": "b1076dfc-b9ad-4769-8c92-a6c4dae69d19",
    "_uuid": "8f2839f25d086af736a60e9eeb907d3b93b6e0e5"
   },
   "outputs": [
    {
     "name": "stderr",
     "output_type": "stream",
     "text": [
      "Using TensorFlow backend.\n"
     ]
    }
   ],
   "source": [
    "# Imports\n",
    "import os\n",
    "import numpy as np\n",
    "import matplotlib.pyplot as plt\n",
    "import pandas as pd\n",
    "import tensorflow as tf\n",
    "from tensorflow.python.client import device_lib\n",
    "import time\n",
    "import seaborn as sns\n",
    "import matplotlib.gridspec as gridspec\n",
    "\n",
    "from keras.layers import Input, Dense\n",
    "from keras import regularizers, Model\n",
    "from keras.models import Sequential, model_from_json\n",
    "from keras.wrappers.scikit_learn import KerasClassifier\n",
    "from keras.optimizers import RMSprop\n",
    "\n",
    "from sklearn.manifold import TSNE\n",
    "from sklearn.model_selection import cross_val_score\n",
    "from sklearn.linear_model import LogisticRegression\n",
    "from sklearn.model_selection import train_test_split\n",
    "from sklearn.preprocessing import StandardScaler, MinMaxScaler\n",
    "from sklearn.metrics import accuracy_score, precision_recall_curve, classification_report, confusion_matrix, precision_score, average_precision_score, roc_curve, auc, recall_score, f1_score"
   ]
  },
  {
   "cell_type": "code",
   "execution_count": 2,
   "metadata": {
    "_cell_guid": "79c7e3d0-c299-4dcb-8224-4455121ee9b0",
    "_uuid": "d629ff2d2480ee46fbb7e2d37f6b5fab8052498a"
   },
   "outputs": [],
   "source": [
    "# Import benign and gafgyt combo dataset for a given device id (1-9)\n",
    "def import_dataset_benign_gagfyt_combo(device_id):\n",
    "    normal = pd.read_csv('../input/nbaiot-dataset/{}.benign.csv'.format(device_id))\n",
    "    n_X = normal.iloc[:,]\n",
    "    n_X_scaled = MinMaxScaler().fit_transform(n_X.values)\n",
    "    n_y = np.ones(n_X.shape[0]) # 1 represents normal\n",
    "\n",
    "    anomalous = pd.read_csv('../input/nbaiot-dataset/{}.gafgyt.combo.csv'.format(device_id))\n",
    "    a_X = anomalous.iloc[:,]\n",
    "    a_X_scaled = MinMaxScaler().fit_transform(a_X.values)\n",
    "    a_y = np.zeros(a_X.shape[0]) # 0 represents anomalous\n",
    "\n",
    "    #normal.info()\n",
    "    #normal.describe()\n",
    "    #normal.head()\n",
    "\n",
    "    #anomalous.info()\n",
    "    #anomalous.describe()\n",
    "    #anomalous.head()\n",
    "\n",
    "    return (n_X_scaled, n_y, a_X_scaled, a_y)"
   ]
  },
  {
   "cell_type": "code",
   "execution_count": 3,
   "metadata": {},
   "outputs": [],
   "source": [
    "def build_model(feature_count):\n",
    "    model = Sequential()\n",
    "    model.add(Dense(units=8, kernel_initializer=\"uniform\", activation=\"relu\", input_dim=feature_count)) # Hidden Layer 1 with 8 nodes\n",
    "    model.add(Dense(units=6, kernel_initializer=\"uniform\", activation=\"relu\"))  # Hidden Layer 2 with 6 nodes\n",
    "    model.add(Dense(units=1, kernel_initializer=\"uniform\", activation=\"sigmoid\")) # Output Layer\n",
    "    model.compile(optimizer = \"adam\", loss = \"binary_crossentropy\", metrics = [\"accuracy\"])\n",
    "    model.compile(loss='binary_crossentropy', optimizer='adam', metrics=['accuracy'])\n",
    "    return model"
   ]
  },
  {
   "cell_type": "code",
   "execution_count": 4,
   "metadata": {},
   "outputs": [],
   "source": [
    "def change_model_feature_count(model, feature_count):\n",
    "    # replace input shape of first layer\n",
    "    model._layers[1].batch_input_shape = (None, feature_count)\n",
    "\n",
    "    # rebuild model architecture by exporting and importing via json\n",
    "    new_model = model_from_json(model.to_json())\n",
    "    #new_model.summary()\n",
    "\n",
    "    # copy weights from old model to new one\n",
    "    for layer in new_model.layers:\n",
    "        try:\n",
    "            layer.set_weights(model.get_layer(name=layer.name).get_weights())\n",
    "        except:\n",
    "            print(\"Could not transfer weights for layer {}\".format(layer.name))\n",
    "\n",
    "    new_model.compile(loss='binary_crossentropy', optimizer='adam', metrics=['accuracy'])\n",
    "    return new_model"
   ]
  },
  {
   "cell_type": "code",
   "execution_count": 5,
   "metadata": {},
   "outputs": [],
   "source": [
    "def train_model(model, X_train, y_train):\n",
    "    history = model.fit(X_train, y_train,\n",
    "                    batch_size=64,\n",
    "                    epochs=3) #,\n",
    "                    # We pass some validation for\n",
    "                    # monitoring validation loss and metrics\n",
    "                    # at the end of each epoch\n",
    "                    #validation_data=(X_test, y_test))"
   ]
  },
  {
   "cell_type": "code",
   "execution_count": 6,
   "metadata": {},
   "outputs": [],
   "source": [
    "def evaluate_model(model, X_test, y_test):\n",
    "    #model.summary()\n",
    "\n",
    "    y_pred = model.predict(X_test)\n",
    "    y_pred = y_pred.round()\n",
    "\n",
    "    #print (\"\")\n",
    "    #print (\"Classification Report: \")\n",
    "    #print (classification_report(y_test, y_pred.round()))\n",
    "\n",
    "    #print (\"\")\n",
    "    #print (\"Accuracy Score: \", accuracy_score(y_test, y_pred.round()))\n",
    "    #loss, accuracy, f1_score, precision, recall = model.evaluate(X_test, y_test, verbose=0)\n",
    "    accuracy = accuracy_score(y_test, y_pred)\n",
    "    precision = precision_score(y_test, y_pred)\n",
    "    recall = recall_score(y_test, y_pred)\n",
    "    f1 = f1_score(y_test, y_pred)\n",
    "    return (accuracy, precision, recall, f1)"
   ]
  },
  {
   "cell_type": "code",
   "execution_count": 7,
   "metadata": {},
   "outputs": [],
   "source": [
    "def limit_dataset_feature_count(feature_count, n_X_scaled, n_y, a_X_scaled, a_y):\n",
    "    X = np.append(n_X_scaled[:,:feature_count], a_X_scaled[:,:feature_count], axis = 0)\n",
    "    y = np.append(n_y, a_y)\n",
    "\n",
    "    return train_test_split(X, y, test_size=0.25)"
   ]
  },
  {
   "cell_type": "code",
   "execution_count": 8,
   "metadata": {},
   "outputs": [],
   "source": [
    "def print_accuracy_metrices(title, metrices):\n",
    "    (accuracy, precision, recall, f1) = metrices\n",
    "    print (f\"{title}, Accuracy: {accuracy}, Precision: {precision}, Recall: {recall}, F1: {f1}\")"
   ]
  },
  {
   "cell_type": "code",
   "execution_count": 9,
   "metadata": {},
   "outputs": [],
   "source": [
    "def dynamic_network_expansion(device_id):\n",
    "    devices_names = ['Danmini_Doorbell', 'Ecobee_Thermostat', 'Ennio_Doorbell', 'Philips_B120N10_Baby_Monitor', 'Provision_PT_737E_Security_Camera', 'Provision_PT_838_Security_Camera', 'Samsung_SNH_1011_N_Webcam', 'SimpleHome_XCS7_1002_WHT_Security_Camera', 'SimpleHome_XCS7_1003_WHT_Security_Camera']\n",
    "    (n_X_scaled, n_y, a_X_scaled, a_y) = import_dataset_benign_gagfyt_combo(device_id)\n",
    "    feature_count = 100\n",
    "    X_train, X_test, y_train, y_test = limit_dataset_feature_count(feature_count, n_X_scaled, n_y, a_X_scaled, a_y)\n",
    "\n",
    "    model = build_model(feature_count)\n",
    "\n",
    "    train_model(model, X_train, y_train)\n",
    "\n",
    "    evaluate_model(model, X_test, y_test)\n",
    "\n",
    "    new_feature_count = 115\n",
    "    X_train, X_test, y_train, y_test = limit_dataset_feature_count(new_feature_count, n_X_scaled, n_y, a_X_scaled, a_y)\n",
    "    new_model = change_model_feature_count(model, new_feature_count)\n",
    "\n",
    "    before = evaluate_model(new_model, X_test, y_test)\n",
    "    train_model(new_model, X_train, y_train)\n",
    "    after = evaluate_model(new_model, X_test, y_test)\n",
    "\n",
    "    return (devices_names[device_id - 1], before, after)"
   ]
  },
  {
   "cell_type": "code",
   "execution_count": 10,
   "metadata": {},
   "outputs": [
    {
     "name": "stdout",
     "output_type": "stream",
     "text": [
      "Epoch 1/3\n",
      "81949/81949 [==============================] - 2s 30us/step - loss: 0.0786 - accuracy: 0.9661\n",
      "Epoch 2/3\n",
      "81949/81949 [==============================] - 2s 24us/step - loss: 0.0014 - accuracy: 0.9997\n",
      "Epoch 3/3\n",
      "81949/81949 [==============================] - 2s 26us/step - loss: 6.2130e-04 - accuracy: 0.9999\n",
      "Could not transfer weights for layer dense_1\n",
      "Epoch 1/3\n",
      "81949/81949 [==============================] - 2s 27us/step - loss: 0.0267 - accuracy: 0.9962\n",
      "Epoch 2/3\n",
      "81949/81949 [==============================] - 2s 26us/step - loss: 6.9174e-04 - accuracy: 0.9999\n",
      "Epoch 3/3\n",
      "81949/81949 [==============================] - 2s 26us/step - loss: 3.6508e-04 - accuracy: 0.9999\n",
      "Epoch 1/3\n",
      "49593/49593 [==============================] - 1s 28us/step - loss: 0.1253 - accuracy: 0.9730\n",
      "Epoch 2/3\n",
      "49593/49593 [==============================] - 1s 25us/step - loss: 0.0017 - accuracy: 0.9998\n",
      "Epoch 3/3\n",
      "49593/49593 [==============================] - 1s 25us/step - loss: 7.4728e-04 - accuracy: 0.9998\n",
      "Could not transfer weights for layer dense_4\n"
     ]
    },
    {
     "name": "stderr",
     "output_type": "stream",
     "text": [
      "/opt/conda/lib/python3.6/site-packages/sklearn/metrics/classification.py:1437: UndefinedMetricWarning: Precision is ill-defined and being set to 0.0 due to no predicted samples.\n",
      "  'precision', 'predicted', average, warn_for)\n",
      "/opt/conda/lib/python3.6/site-packages/sklearn/metrics/classification.py:1437: UndefinedMetricWarning: F-score is ill-defined and being set to 0.0 due to no predicted samples.\n",
      "  'precision', 'predicted', average, warn_for)\n"
     ]
    },
    {
     "name": "stdout",
     "output_type": "stream",
     "text": [
      "Epoch 1/3\n",
      "49593/49593 [==============================] - 1s 28us/step - loss: 0.0492 - accuracy: 0.9840\n",
      "Epoch 2/3\n",
      "49593/49593 [==============================] - 1s 26us/step - loss: 8.8812e-04 - accuracy: 0.9999\n",
      "Epoch 3/3\n",
      "49593/49593 [==============================] - 1s 25us/step - loss: 3.7009e-04 - accuracy: 0.9999\n",
      "Epoch 1/3\n",
      "69085/69085 [==============================] - 2s 27us/step - loss: 0.0820 - accuracy: 0.9778\n",
      "Epoch 2/3\n",
      "69085/69085 [==============================] - 2s 25us/step - loss: 0.0017 - accuracy: 0.9996\n",
      "Epoch 3/3\n",
      "69085/69085 [==============================] - 2s 26us/step - loss: 6.3058e-04 - accuracy: 0.9998\n",
      "Could not transfer weights for layer dense_7\n",
      "Epoch 1/3\n",
      "69085/69085 [==============================] - 2s 27us/step - loss: 0.0271 - accuracy: 0.9986\n",
      "Epoch 2/3\n",
      "69085/69085 [==============================] - 2s 25us/step - loss: 4.4285e-04 - accuracy: 1.0000\n",
      "Epoch 3/3\n",
      "69085/69085 [==============================] - 2s 26us/step - loss: 1.3940e-04 - accuracy: 1.0000\n",
      "Epoch 1/3\n",
      "175044/175044 [==============================] - 5s 27us/step - loss: 0.0436 - accuracy: 0.9948\n",
      "Epoch 2/3\n",
      "175044/175044 [==============================] - 4s 26us/step - loss: 2.6815e-04 - accuracy: 0.9999\n",
      "Epoch 3/3\n",
      "175044/175044 [==============================] - 5s 26us/step - loss: 9.0672e-05 - accuracy: 1.0000\n",
      "Could not transfer weights for layer dense_10\n",
      "Epoch 1/3\n",
      "175044/175044 [==============================] - 5s 27us/step - loss: 0.0103 - accuracy: 0.9992\n",
      "Epoch 2/3\n",
      "175044/175044 [==============================] - 5s 26us/step - loss: 5.8565e-05 - accuracy: 1.0000\n",
      "Epoch 3/3\n",
      "175044/175044 [==============================] - 5s 26us/step - loss: 8.6735e-06 - accuracy: 1.0000\n",
      "Epoch 1/3\n",
      "92650/92650 [==============================] - 3s 27us/step - loss: 0.0744 - accuracy: 0.9895\n",
      "Epoch 2/3\n",
      "92650/92650 [==============================] - 2s 26us/step - loss: 5.6092e-04 - accuracy: 0.9999\n",
      "Epoch 3/3\n",
      "92650/92650 [==============================] - 2s 26us/step - loss: 1.9247e-04 - accuracy: 1.0000\n",
      "Could not transfer weights for layer dense_13\n",
      "Epoch 1/3\n",
      "92650/92650 [==============================] - 3s 28us/step - loss: 0.0288 - accuracy: 0.9960\n",
      "Epoch 2/3\n",
      "92650/92650 [==============================] - 2s 26us/step - loss: 1.8478e-04 - accuracy: 1.0000\n",
      "Epoch 3/3\n",
      "92650/92650 [==============================] - 3s 27us/step - loss: 4.6956e-05 - accuracy: 1.0000\n",
      "Epoch 1/3\n",
      "117033/117033 [==============================] - 3s 27us/step - loss: 0.1861 - accuracy: 0.9611\n",
      "Epoch 2/3\n",
      "117033/117033 [==============================] - 3s 25us/step - loss: 0.0511 - accuracy: 0.9999\n",
      "Epoch 3/3\n",
      "117033/117033 [==============================] - 3s 26us/step - loss: 0.0204 - accuracy: 1.0000\n",
      "Could not transfer weights for layer dense_16\n"
     ]
    },
    {
     "name": "stderr",
     "output_type": "stream",
     "text": [
      "/opt/conda/lib/python3.6/site-packages/sklearn/metrics/classification.py:1437: UndefinedMetricWarning: Precision is ill-defined and being set to 0.0 due to no predicted samples.\n",
      "  'precision', 'predicted', average, warn_for)\n",
      "/opt/conda/lib/python3.6/site-packages/sklearn/metrics/classification.py:1437: UndefinedMetricWarning: F-score is ill-defined and being set to 0.0 due to no predicted samples.\n",
      "  'precision', 'predicted', average, warn_for)\n"
     ]
    },
    {
     "name": "stdout",
     "output_type": "stream",
     "text": [
      "Epoch 1/3\n",
      "117033/117033 [==============================] - 3s 27us/step - loss: 0.0640 - accuracy: 0.9796\n",
      "Epoch 2/3\n",
      "117033/117033 [==============================] - 3s 25us/step - loss: 0.0085 - accuracy: 0.9999\n",
      "Epoch 3/3\n",
      "117033/117033 [==============================] - 3s 26us/step - loss: 0.0048 - accuracy: 1.0000\n",
      "Epoch 1/3\n",
      "83114/83114 [==============================] - 2s 28us/step - loss: 0.0659 - accuracy: 0.9881\n",
      "Epoch 2/3\n",
      "83114/83114 [==============================] - 2s 26us/step - loss: 9.6123e-04 - accuracy: 0.9999\n",
      "Epoch 3/3\n",
      "83114/83114 [==============================] - 2s 25us/step - loss: 4.8408e-04 - accuracy: 0.9999\n",
      "Could not transfer weights for layer dense_19\n",
      "Epoch 1/3\n",
      "83114/83114 [==============================] - 2s 27us/step - loss: 0.0319 - accuracy: 0.9972\n",
      "Epoch 2/3\n",
      "83114/83114 [==============================] - 2s 26us/step - loss: 3.9180e-04 - accuracy: 1.0000\n",
      "Epoch 3/3\n",
      "83114/83114 [==============================] - 2s 26us/step - loss: 1.6103e-04 - accuracy: 1.0000\n",
      "Epoch 1/3\n",
      "75651/75651 [==============================] - 2s 27us/step - loss: 0.0828 - accuracy: 0.9825\n",
      "Epoch 2/3\n",
      "75651/75651 [==============================] - 2s 25us/step - loss: 3.1811e-04 - accuracy: 0.9999\n",
      "Epoch 3/3\n",
      "75651/75651 [==============================] - 2s 25us/step - loss: 7.4610e-05 - accuracy: 1.0000\n",
      "Could not transfer weights for layer dense_22\n",
      "Epoch 1/3\n",
      "75651/75651 [==============================] - 2s 27us/step - loss: 0.0252 - accuracy: 0.9978\n",
      "Epoch 2/3\n",
      "75651/75651 [==============================] - 2s 25us/step - loss: 5.3926e-04 - accuracy: 0.9999\n",
      "Epoch 3/3\n",
      "75651/75651 [==============================] - 2s 26us/step - loss: 1.5106e-04 - accuracy: 1.0000\n",
      "Epoch 1/3\n",
      "59194/59194 [==============================] - 2s 27us/step - loss: 0.2135 - accuracy: 0.9226\n",
      "Epoch 2/3\n",
      "59194/59194 [==============================] - 1s 24us/step - loss: 0.0893 - accuracy: 0.9997\n",
      "Epoch 3/3\n",
      "59194/59194 [==============================] - 1s 25us/step - loss: 0.0522 - accuracy: 0.9999\n",
      "Could not transfer weights for layer dense_25\n",
      "Epoch 1/3\n",
      "59194/59194 [==============================] - 2s 28us/step - loss: 0.0508 - accuracy: 0.9792\n",
      "Epoch 2/3\n",
      "59194/59194 [==============================] - 1s 25us/step - loss: 5.5068e-04 - accuracy: 0.9999\n",
      "Epoch 3/3\n",
      "59194/59194 [==============================] - 1s 25us/step - loss: 1.8081e-04 - accuracy: 0.9999\n"
     ]
    }
   ],
   "source": [
    "device_ids = [1, 2, 3, 4, 5, 6, 7, 8, 9]\n",
    "metrices = []\n",
    "for device_id in device_ids:\n",
    "    metrices.append(dynamic_network_expansion(device_id))"
   ]
  },
  {
   "cell_type": "code",
   "execution_count": 11,
   "metadata": {},
   "outputs": [
    {
     "name": "stdout",
     "output_type": "stream",
     "text": [
      "Danmini_Doorbell\n",
      "\n",
      "Danmini_Doorbell-Before, Accuracy: 0.4503056704616173, Precision: 0.45024529545288133, Recall: 1.0, F1: 0.620922952640614\n",
      "Danmini_Doorbell-After, Accuracy: 1.0, Precision: 1.0, Recall: 1.0, F1: 1.0\n",
      "-----------------\n",
      "Ecobee_Thermostat\n",
      "\n",
      "Ecobee_Thermostat-Before, Accuracy: 0.8024437454633438, Precision: 0.0, Recall: 0.0, F1: 0.0\n",
      "Ecobee_Thermostat-After, Accuracy: 1.0, Precision: 1.0, Recall: 1.0, F1: 1.0\n",
      "-----------------\n",
      "Ennio_Doorbell\n",
      "\n",
      "Ennio_Doorbell-Before, Accuracy: 0.40492422597594335, Precision: 0.4119426893298923, Recall: 0.94992817566181, F1: 0.5746741154562383\n",
      "Ennio_Doorbell-After, Accuracy: 1.0, Precision: 1.0, Recall: 1.0, F1: 1.0\n",
      "-----------------\n",
      "Philips_B120N10_Baby_Monitor\n",
      "\n",
      "Philips_B120N10_Baby_Monitor-Before, Accuracy: 0.7541989442654419, Precision: 0.7541989442654419, Recall: 1.0, F1: 0.8598784610274146\n",
      "Philips_B120N10_Baby_Monitor-After, Accuracy: 0.9999828614519778, Precision: 0.9999772763424001, Recall: 1.0, F1: 0.9999886380421075\n",
      "-----------------\n",
      "Provision_PT_737E_Security_Camera\n",
      "\n",
      "Provision_PT_737E_Security_Camera-Before, Accuracy: 0.49689159435306307, Precision: 0.49689159435306307, Recall: 1.0, F1: 0.663897901795371\n",
      "Provision_PT_737E_Security_Camera-After, Accuracy: 1.0, Precision: 1.0, Recall: 1.0, F1: 1.0\n",
      "-----------------\n",
      "Provision_PT_838_Security_Camera\n",
      "\n",
      "Provision_PT_838_Security_Camera-Before, Accuracy: 0.37120299402732565, Precision: 0.0, Recall: 0.0, F1: 0.0\n",
      "Provision_PT_838_Security_Camera-After, Accuracy: 1.0, Precision: 1.0, Recall: 1.0, F1: 1.0\n",
      "-----------------\n",
      "Samsung_SNH_1011_N_Webcam\n",
      "\n",
      "Samsung_SNH_1011_N_Webcam-Before, Accuracy: 0.47125067677314564, Precision: 0.47123159110597745, Recall: 1.0, F1: 0.6405947152776074\n",
      "Samsung_SNH_1011_N_Webcam-After, Accuracy: 0.9999639054322325, Precision: 0.9999234068627451, Recall: 1.0, F1: 0.9999617019646891\n",
      "-----------------\n",
      "SimpleHome_XCS7_1002_WHT_Security_Camera\n",
      "\n",
      "SimpleHome_XCS7_1002_WHT_Security_Camera-Before, Accuracy: 0.4094063528571995, Precision: 0.008597687518529499, Recall: 0.0025047503886681637, F1: 0.003879339174637148\n",
      "SimpleHome_XCS7_1002_WHT_Security_Camera-After, Accuracy: 1.0, Precision: 1.0, Recall: 1.0, F1: 1.0\n",
      "-----------------\n",
      "SimpleHome_XCS7_1003_WHT_Security_Camera\n",
      "\n",
      "SimpleHome_XCS7_1003_WHT_Security_Camera-Before, Accuracy: 0.24837826880194608, Precision: 0.24837826880194608, Recall: 1.0, F1: 0.39792148743555394\n",
      "SimpleHome_XCS7_1003_WHT_Security_Camera-After, Accuracy: 1.0, Precision: 1.0, Recall: 1.0, F1: 1.0\n",
      "-----------------\n"
     ]
    }
   ],
   "source": [
    "for metric in metrices:\n",
    "    (name, before, after) = metric\n",
    "    print(name)\n",
    "    print(\"\")\n",
    "    print_accuracy_metrices(f\"{name}-Before\", before)\n",
    "    print_accuracy_metrices(f\"{name}-After\", after)\n",
    "    print(\"-----------------\")"
   ]
  }
 ],
 "metadata": {
  "kernelspec": {
   "display_name": "Python 3",
   "language": "python",
   "name": "python3"
  },
  "language_info": {
   "codemirror_mode": {
    "name": "ipython",
    "version": 3
   },
   "file_extension": ".py",
   "mimetype": "text/x-python",
   "name": "python",
   "nbconvert_exporter": "python",
   "pygments_lexer": "ipython3",
   "version": "3.6.6"
  }
 },
 "nbformat": 4,
 "nbformat_minor": 1
}
